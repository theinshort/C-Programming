{
  "nbformat": 4,
  "nbformat_minor": 0,
  "metadata": {
    "colab": {
      "provenance": [],
      "toc_visible": true,
      "authorship_tag": "ABX9TyMb7F1g2KOWnjOV1/8aD1gw",
      "include_colab_link": true
    },
    "kernelspec": {
      "name": "python3",
      "display_name": "Python 3"
    },
    "language_info": {
      "name": "python"
    }
  },
  "cells": [
    {
      "cell_type": "markdown",
      "metadata": {
        "id": "view-in-github",
        "colab_type": "text"
      },
      "source": [
        "<a href=\"https://colab.research.google.com/github/theinshort/c-programming/blob/main/python/python_basics.ipynb\" target=\"_parent\"><img src=\"https://colab.research.google.com/assets/colab-badge.svg\" alt=\"Open In Colab\"/></a>"
      ]
    },
    {
      "cell_type": "markdown",
      "source": [
        "# Python For Deep Learning\n",
        "In this tutorials we will be exploring some advance pythons concepts and techniques for deep learning implementations.\n",
        "## Table of Contents\n",
        "\n",
        "### Section 1: Advanced Python Techniques\n",
        "1. List Comprehensions\n",
        "2. Lambda Functions\n",
        "3. Map, Filter, and Reduce Functions\n",
        "4. Decorators\n",
        "5. Context Managers\n",
        "6. Generators\n",
        "7. Multithreading and Multiprocessing\n",
        "8. Working with Files (Reading and Writing)\n",
        "9. Regular Expressions\n",
        "10. Error Handling and Exceptions\n",
        "\n",
        "### Section 2: Classes\n",
        "11. Classes and Objects\n",
        "12. Inheritance\n",
        "13. Property Decorators\n",
        "14. Python's Data Model & Magic Methods"
      ],
      "metadata": {
        "id": "g6ZufRp57Iw8"
      }
    },
    {
      "cell_type": "markdown",
      "source": [
        "## 1. List Comprehensions\n",
        "\n",
        "List comprehensions provide a concise way to create lists. It consists of an expression followed by a `for` statement inside square brackets. Here's an example:"
      ],
      "metadata": {
        "id": "P8nCT8Sh_LUQ"
      }
    },
    {
      "cell_type": "code",
      "source": [
        "square = [x * x for x in range(12)]\n",
        "square"
      ],
      "metadata": {
        "colab": {
          "base_uri": "https://localhost:8080/"
        },
        "id": "m2MayiIg-_GF",
        "outputId": "d643a6e3-1646-4a26-83b5-2240d8cc467a"
      },
      "execution_count": 2,
      "outputs": [
        {
          "output_type": "execute_result",
          "data": {
            "text/plain": [
              "[0, 1, 4, 9, 16, 25, 36, 49, 64, 81, 100, 121]"
            ]
          },
          "metadata": {},
          "execution_count": 2
        }
      ]
    },
    {
      "cell_type": "markdown",
      "source": [
        "This creates a list of squares of numbers from 0 to 9. You can also add an optional `if` clause to filter the items:\n"
      ],
      "metadata": {
        "id": "2hWXp88-_mUd"
      }
    },
    {
      "cell_type": "code",
      "source": [
        "even_sq = [x * x for x in range(12) if x % 2 == 0]\n",
        "even_sq"
      ],
      "metadata": {
        "colab": {
          "base_uri": "https://localhost:8080/"
        },
        "id": "Z79k85Bm_u-l",
        "outputId": "103a7c6e-a5ee-4618-de81-4d4128776638"
      },
      "execution_count": 3,
      "outputs": [
        {
          "output_type": "execute_result",
          "data": {
            "text/plain": [
              "[0, 4, 16, 36, 64, 100]"
            ]
          },
          "metadata": {},
          "execution_count": 3
        }
      ]
    },
    {
      "cell_type": "markdown",
      "source": [
        "This creates a list of squares of even numbers from 0 to 9.\n"
      ],
      "metadata": {
        "id": "lB0P4J76AFoW"
      }
    },
    {
      "cell_type": "markdown",
      "source": [
        "Let's use list comprehensions to create a list of cubes of even and odd numbers from 1 to 30.\n"
      ],
      "metadata": {
        "id": "4IJvNK9GAVuV"
      }
    },
    {
      "cell_type": "code",
      "source": [
        "# Cube for even numbers\n",
        "\n",
        "# range(x, y) function take values from starting values as x and one less (y-1) from final valueThe range() function returns a sequence of numbers,\n",
        "# starting from 0 by default, and increments by 1 (by default), and stops before a specified number.\n",
        "# Syntax for range function => range(start, stop, step)\n",
        "even_cube = [x*x*x for x in range(1, 31) if x % 2 == 0]\n",
        "print(even_cube)\n",
        "odd_cube = [x*x*x for x in range(1, 31) if x % 2 != 0]\n",
        "print(odd_cube)\n"
      ],
      "metadata": {
        "colab": {
          "base_uri": "https://localhost:8080/"
        },
        "id": "ACOPm_LvAQrV",
        "outputId": "ba739880-0d10-4ea6-a0ef-34febfe15493"
      },
      "execution_count": 4,
      "outputs": [
        {
          "output_type": "stream",
          "name": "stdout",
          "text": [
            "[8, 64, 216, 512, 1000, 1728, 2744, 4096, 5832, 8000, 10648, 13824, 17576, 21952, 27000]\n",
            "[1, 27, 125, 343, 729, 1331, 2197, 3375, 4913, 6859, 9261, 12167, 15625, 19683, 24389]\n"
          ]
        }
      ]
    },
    {
      "cell_type": "markdown",
      "source": [
        "## 2. Lambda Functions\n",
        "Lambda functions are small, anonymous functions that can be created with the `lambda` keyword. They are useful when you need a simple function for a short period of time and don't want to define a full function using `def`. Lambda functions can take any number of arguments but can only have one expression."
      ],
      "metadata": {
        "id": "U4w23D_XCjQ2"
      }
    },
    {
      "cell_type": "code",
      "source": [
        "multiply = lambda x, y: x*y\n",
        "print(multiply(10,3))"
      ],
      "metadata": {
        "colab": {
          "base_uri": "https://localhost:8080/"
        },
        "id": "uei-CrN-C0ZG",
        "outputId": "4e9a1bb2-1d3c-462b-c889-e1c4b2853dec"
      },
      "execution_count": 5,
      "outputs": [
        {
          "output_type": "stream",
          "name": "stdout",
          "text": [
            "30\n"
          ]
        }
      ]
    },
    {
      "cell_type": "code",
      "source": [
        "is_even_odd = lambda x: \"Even\" if x %2 == 0 else \"Odd\"\n",
        "\n",
        "print(is_even_odd(23))\n",
        "print(is_even_odd(24))"
      ],
      "metadata": {
        "colab": {
          "base_uri": "https://localhost:8080/"
        },
        "id": "SSS1QCw4DcBV",
        "outputId": "6c3e3987-b8bc-47a8-eb2a-0044af51dc92"
      },
      "execution_count": 7,
      "outputs": [
        {
          "output_type": "stream",
          "name": "stdout",
          "text": [
            "Odd\n",
            "Even\n"
          ]
        }
      ]
    },
    {
      "cell_type": "markdown",
      "source": [
        "Let's create some advance examples for lambda funtions in pythons that demonstrate their capabilities."
      ],
      "metadata": {
        "id": "Lvwuc48zFLXA"
      }
    },
    {
      "cell_type": "markdown",
      "source": [
        "### Data Cleaning and Transformation"
      ],
      "metadata": {
        "id": "u-Ysp2QHFdNk"
      }
    },
    {
      "cell_type": "code",
      "source": [
        "clean_data = lambda text: text.lower().strip().replace(',', '')\n",
        "\n",
        "data = \"HelLo worLd!, how,s are YOU doing?\"\n",
        "cleaned_data = clean_data(data)\n",
        "print(cleaned_data)"
      ],
      "metadata": {
        "colab": {
          "base_uri": "https://localhost:8080/"
        },
        "id": "hW5ebpsDFccm",
        "outputId": "340058c9-890e-49c7-8d27-99861f14df4b"
      },
      "execution_count": 9,
      "outputs": [
        {
          "output_type": "stream",
          "name": "stdout",
          "text": [
            "hello world! hows are you doing?\n"
          ]
        }
      ]
    },
    {
      "cell_type": "markdown",
      "source": [
        "This lambda function cleans text data by converting it to lowercase, removing leading/trailing whitespace, and replacing commas. It demonstrates how lambdas can be used in data pipelines for preprocessing."
      ],
      "metadata": {
        "id": "-luxgS9FGiG1"
      }
    },
    {
      "cell_type": "markdown",
      "source": [
        "### Nested Lambdas for complex Logic"
      ],
      "metadata": {
        "id": "rd3E-v5AH2s-"
      }
    },
    {
      "cell_type": "code",
      "source": [
        "calculate_shipping_cost = lambda distance, weight: \\\n",
        "  lambda discount: ((distance * 0.5) + (weight * 2) * (1 - discount/100))\n",
        "\n",
        "discount = 20\n",
        "distance, weight = 150, 5\n",
        "\n",
        "shipping_cost = calculate_shipping_cost(distance, weight)(discount)\n",
        "print(shipping_cost)"
      ],
      "metadata": {
        "colab": {
          "base_uri": "https://localhost:8080/"
        },
        "id": "c3WAAK0KFaNM",
        "outputId": "d119bf65-5734-48aa-a4a8-a85b5767ea11"
      },
      "execution_count": 14,
      "outputs": [
        {
          "output_type": "stream",
          "name": "stdout",
          "text": [
            "83.0\n"
          ]
        }
      ]
    },
    {
      "cell_type": "markdown",
      "source": [
        "This example involves nested lambdas. The outer lambda defines the shipping cost calculation based on distance and weight. The inner lambda applies a discount, demonstrating how lambdas can encapsulate sub-functionality.\n"
      ],
      "metadata": {
        "id": "SqzbDKq6LfFJ"
      }
    },
    {
      "cell_type": "markdown",
      "source": [
        "### Custom Sorting With Lambdas"
      ],
      "metadata": {
        "id": "2RfdvV_rLfEN"
      }
    },
    {
      "cell_type": "code",
      "source": [
        "data = [\n",
        "    {\"name\": \"Alice\", \"age\": 23},\n",
        "    {\"name\": \"Bob\", \"age\": 31},\n",
        "    {\"name\": \"Charlie\", \"age\": 29}\n",
        "]\n",
        "\n",
        "sort_by_age = lambda data: sorted(data, key= lambda data: data[\"age\"])\n",
        "sort_by_name = lambda data: sorted(data, key= lambda data: data[\"name\"])\n",
        "\n",
        "print(sort_by_age(data))\n",
        "print(sort_by_name(data))"
      ],
      "metadata": {
        "colab": {
          "base_uri": "https://localhost:8080/"
        },
        "id": "CHtXsXE0K7vW",
        "outputId": "1169802a-b66f-4ccf-8c86-9e6481e1ae0e"
      },
      "execution_count": 15,
      "outputs": [
        {
          "output_type": "stream",
          "name": "stdout",
          "text": [
            "[{'name': 'Alice', 'age': 23}, {'name': 'Charlie', 'age': 29}, {'name': 'Bob', 'age': 31}]\n",
            "[{'name': 'Alice', 'age': 23}, {'name': 'Bob', 'age': 31}, {'name': 'Charlie', 'age': 29}]\n"
          ]
        }
      ]
    },
    {
      "cell_type": "markdown",
      "source": [
        "This code shows how lambdas can be used for custom sorting. The lambda functions define the sorting criteria based on specific dictionary keys, allowing for flexible sorting logic.\n"
      ],
      "metadata": {
        "id": "BsuYgkdoPVXB"
      }
    },
    {
      "cell_type": "markdown",
      "source": [
        "### Dynamic function Generation"
      ],
      "metadata": {
        "id": "4i8uQAZ_P1Wm"
      }
    },
    {
      "cell_type": "code",
      "source": [
        "\n",
        "math_operation = lambda operator: lambda x, y: operator(x, y)\n",
        "\n",
        "add = math_operation(lambda a, b: a + b)\n",
        "multiply = math_operation(lambda a, b: a * b)\n",
        "\n",
        "print(add(5, 3))\n",
        "print(multiply(4, 2))"
      ],
      "metadata": {
        "colab": {
          "base_uri": "https://localhost:8080/"
        },
        "id": "siUYQQoSSwGW",
        "outputId": "d88d5cbb-853b-40fc-d2e9-cda88b561df9"
      },
      "execution_count": 17,
      "outputs": [
        {
          "output_type": "stream",
          "name": "stdout",
          "text": [
            "8\n",
            "8\n"
          ]
        }
      ]
    },
    {
      "cell_type": "markdown",
      "source": [
        "This example demonstrates how lambdas can be used to dynamically generate functions based on input. The `math_operation` lambda takes an operator and returns a new lambda that performs that operation on two numbers."
      ],
      "metadata": {
        "id": "8bJL_ngNTUsO"
      }
    },
    {
      "cell_type": "markdown",
      "source": [
        "### Integration With External APIs"
      ],
      "metadata": {
        "id": "xD3lRc1_TjxG"
      }
    },
    {
      "cell_type": "code",
      "source": [
        "import requests as req\n",
        "\n",
        "get_weather_data = lambda city: req.get(f\"https://api.openweathermap.org/data/2.5/weather?q={city}&appid=YOUR_API_KEY\").json()\n",
        "# Add your own API Key\n",
        "\n",
        "weather_data = get_weather_data(\"London\")\n",
        "\n",
        "print(weather_data[\"main\"][\"temp\"])"
      ],
      "metadata": {
        "id": "LeHoJ3x3TpQp"
      },
      "execution_count": 18,
      "outputs": []
    },
    {
      "cell_type": "markdown",
      "source": [
        "This example showcases how lambdas can be used to interact with external APIs. The get_weather_data lambda retrieves weather data for a given city using an API call.\n",
        "\n",
        "Remember that while lambdas offer conciseness, complex logic within them can become harder to read and maintain. Use them judiciously for smaller, well-defined tasks within your code."
      ],
      "metadata": {
        "id": "woU8cDseU7Nl"
      }
    },
    {
      "cell_type": "markdown",
      "source": [
        "## Map, Filter, and Reduce Functions\n",
        "`map`, `filter`, and `reduce` are higher-order functions that take a function and a sequence (e.g., list, tuple) as input and perform specific operations on them.\n"
      ],
      "metadata": {
        "id": "bZOyaBbGEi5N"
      }
    },
    {
      "cell_type": "markdown",
      "source": [
        "### Map\n",
        "\n",
        "The `map()` function applies a given function to each item of a sequence and returns an iterator."
      ],
      "metadata": {
        "id": "X4nvpqbcEzIF"
      }
    },
    {
      "cell_type": "code",
      "source": [],
      "metadata": {
        "id": "OKa4YawLE4ln"
      },
      "execution_count": null,
      "outputs": []
    },
    {
      "cell_type": "code",
      "source": [],
      "metadata": {
        "id": "8KcNg9jUEq02"
      },
      "execution_count": null,
      "outputs": []
    }
  ]
}